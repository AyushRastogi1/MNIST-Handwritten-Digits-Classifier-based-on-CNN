{
  "cells": [
    {
      "cell_type": "markdown",
      "metadata": {
        "id": "uB9iMXt6Q6XA"
      },
      "source": [
        "# Introduction\n",
        "\n",
        "In this project, you will build a neural network of your own design to evaluate the MNIST dataset.\n",
        "\n",
        "Some of the benchmark results on MNIST include can be found [on Yann LeCun's page](https://webcache.googleusercontent.com/search?q=cache:stAVPik6onEJ:yann.lecun.com/exdb/mnist) and include:\n",
        "\n",
        "88% [Lecun et al., 1998](https://hal.science/hal-03926082/document)\n",
        "\n",
        "95.3% [Lecun et al., 1998](https://hal.science/hal-03926082v1/document)\n",
        "\n",
        "99.65% [Ciresan et al., 2011](http://people.idsia.ch/~juergen/ijcai2011.pdf)\n",
        "\n",
        "\n",
        "MNIST is a great dataset for sanity checking your models, since the accuracy levels achieved by large convolutional neural networks and small linear models are both quite high. This makes it important to be familiar with the data.\n",
        "\n",
        "## Installation"
      ]
    },
    {
      "cell_type": "code",
      "execution_count": 13,
      "metadata": {
        "id": "J-7gY_ILQ6XC"
      },
      "outputs": [],
      "source": [
        "# Update the PATH to include the user installation directory.\n",
        "# import os\n",
        "# os.environ['PATH'] = f\"{os.environ['PATH']}:/root/.local/bin\"\n",
        "\n",
        "# Restart the Kernel before you move on to the next step."
      ]
    },
    {
      "cell_type": "markdown",
      "metadata": {
        "id": "dH9rlHYFQ6XC"
      },
      "source": [
        "#### Important: Restart the Kernel before you move on to the next step."
      ]
    },
    {
      "cell_type": "code",
      "execution_count": 14,
      "metadata": {
        "id": "xGBCLLQuQ6XD"
      },
      "outputs": [],
      "source": [
        "# Install requirements\n",
        "# !python -m pip install -r requirements.txt"
      ]
    },
    {
      "cell_type": "markdown",
      "metadata": {
        "id": "VD1SiMcCQ6XD"
      },
      "source": [
        "## Imports"
      ]
    },
    {
      "cell_type": "code",
      "execution_count": 15,
      "metadata": {
        "id": "Zt1-bCkLQ6XD"
      },
      "outputs": [],
      "source": [
        "import warnings\n",
        "warnings.filterwarnings(\"ignore\")"
      ]
    },
    {
      "cell_type": "code",
      "execution_count": 16,
      "metadata": {
        "id": "Gc6I06MqQ6XD"
      },
      "outputs": [],
      "source": [
        "## This cell contains the essential imports you will need – DO NOT CHANGE THE CONTENTS! ##\n",
        "import torch\n",
        "import torch.nn as nn\n",
        "import torch.nn.functional as F\n",
        "import torch.optim as optim\n",
        "import torchvision\n",
        "from torchvision import datasets, models\n",
        "import torchvision.transforms as transforms\n",
        "import matplotlib.pyplot as plt\n",
        "import numpy as np"
      ]
    },
    {
      "cell_type": "markdown",
      "metadata": {
        "id": "6-HYH3rxQ6XD"
      },
      "source": [
        "## Load the Dataset\n",
        "\n",
        "Specify your transforms as a list if you intend to .\n",
        "The transforms module is already loaded as `transforms`.\n",
        "\n",
        "MNIST is fortunately included in the torchvision module.\n",
        "Then, you can create your dataset using the `MNIST` object from `torchvision.datasets` ([the documentation is available here](https://pytorch.org/vision/stable/datasets.html#mnist)).\n",
        "Make sure to specify `download=True`!\n",
        "\n",
        "Once your dataset is created, you'll also need to define a `DataLoader` from the `torch.utils.data` module for both the train and the test set."
      ]
    },
    {
      "cell_type": "code",
      "execution_count": 17,
      "metadata": {
        "colab": {
          "base_uri": "https://localhost:8080/"
        },
        "id": "JIbh9cWbQ6XD",
        "outputId": "136e636a-2353-4ad9-bae7-45ad7623c5d5"
      },
      "outputs": [],
      "source": [
        "# Define transforms\n",
        "## YOUR CODE HERE ##\n",
        "# MNIST mean = 0.1307, MNIST std = 0.3081\n",
        "train_transform = transforms.Compose([transforms.RandomRotation(30),\n",
        "                                      transforms.RandomHorizontalFlip(),\n",
        "                                      transforms.RandomVerticalFlip(),\n",
        "                                      transforms.ToTensor(),\n",
        "                                      transforms.Normalize([0.1307],[0.3081])])\n",
        "test_transform = transforms.Compose([transforms.ToTensor(),\n",
        "                                     transforms.Normalize([0.1307],[0.3081])])\n",
        "\n",
        "# Create training set and define training dataloader\n",
        "## YOUR CODE HERE ##\n",
        "train_set = datasets.MNIST('..\\data', download=True, train=True, transform=train_transform)\n",
        "\n",
        "# Split training set into training and validation sets\n",
        "generator = torch.Generator().manual_seed(42)\n",
        "train_set_final, validate_set = torch.utils.data.random_split(train_set, [0.7, 0.3], generator=generator)\n",
        "\n",
        "batch_size = 20\n",
        "if(torch.cuda.is_available()):\n",
        "    num_workers = 4\n",
        "else:\n",
        "    num_workers = 2\n",
        "\n",
        "train_loader = torch.utils.data.DataLoader(train_set_final, batch_size=batch_size, num_workers=num_workers, shuffle=True)\n",
        "validate_loader = torch.utils.data.DataLoader(validate_set, batch_size=batch_size, num_workers=num_workers)\n",
        "\n",
        "# Create test set and define test dataloader\n",
        "## YOUR CODE HERE ##\n",
        "test_set = datasets.MNIST('..\\data', download=True, train=False, transform=test_transform)\n",
        "test_loader = torch.utils.data.DataLoader(test_set, batch_size=batch_size, num_workers=num_workers)"
      ]
    },
    {
      "cell_type": "markdown",
      "metadata": {
        "id": "7MFF0B6sQ6XE"
      },
      "source": [
        "## Justify your preprocessing\n",
        "\n",
        "In your own words, why did you choose the transforms you chose? If you didn't use any preprocessing steps, why not?"
      ]
    },
    {
      "cell_type": "markdown",
      "metadata": {
        "id": "hPxQVhViQ6XE"
      },
      "source": [
        "Rotation, and horizontal and vertical flips are used as transforms to capture the different possible orientations for handwritten digits."
      ]
    },
    {
      "cell_type": "markdown",
      "metadata": {
        "id": "sC8QDmBiQ6XE"
      },
      "source": [
        "## Explore the Dataset\n",
        "Using matplotlib, numpy, and torch, explore the dimensions of your data.\n",
        "\n",
        "You can view images using the `show5` function defined below – it takes a data loader as an argument.\n",
        "Remember that normalized images will look really weird to you! You may want to try changing your transforms to view images.\n",
        "Typically using no transforms other than `toTensor()` works well for viewing – but not as well for training your network.\n",
        "If `show5` doesn't work, go back and check your code for creating your data loaders and your training/test sets."
      ]
    },
    {
      "cell_type": "code",
      "execution_count": 18,
      "metadata": {
        "id": "1qYUchXXQ6XE"
      },
      "outputs": [],
      "source": [
        "## This cell contains a function for showing 5 images from a dataloader – DO NOT CHANGE THE CONTENTS! ##\n",
        "def show5(img_loader):\n",
        "    dataiter = iter(img_loader)\n",
        "\n",
        "    batch = next(dataiter)\n",
        "    labels = batch[1][0:5]\n",
        "    images = batch[0][0:5]\n",
        "    for i in range(5):\n",
        "        print(int(labels[i].detach()))\n",
        "\n",
        "        image = images[i].numpy()\n",
        "        plt.imshow(image.T.squeeze().T)\n",
        "        plt.show()"
      ]
    },
    {
      "cell_type": "code",
      "execution_count": 33,
      "metadata": {
        "id": "-rRqjgvRQ6XE"
      },
      "outputs": [
        {
          "name": "stdout",
          "output_type": "stream",
          "text": [
            "2\n"
          ]
        },
        {
          "data": {
            "image/png": "[encoded data removed]",
            "text/plain": [
              "<Figure size 640x480 with 1 Axes>"
            ]
          },
          "metadata": {},
          "output_type": "display_data"
        },
        {
          "name": "stdout",
          "output_type": "stream",
          "text": [
            "7\n"
          ]
        },
        {
          "data": {
            "image/png": "[encoded data removed]",
            "text/plain": [
              "<Figure size 640x480 with 1 Axes>"
            ]
          },
          "metadata": {},
          "output_type": "display_data"
        },
        {
          "name": "stdout",
          "output_type": "stream",
          "text": [
            "3\n"
          ]
        },
        {
          "data": {
            "image/png": "[encoded data removed]",
            "text/plain": [
              "<Figure size 640x480 with 1 Axes>"
            ]
          },
          "metadata": {},
          "output_type": "display_data"
        },
        {
          "name": "stdout",
          "output_type": "stream",
          "text": [
            "2\n"
          ]
        },
        {
          "data": {
            "image/png": "[encoded data removed]",
            "text/plain": [
              "<Figure size 640x480 with 1 Axes>"
            ]
          },
          "metadata": {},
          "output_type": "display_data"
        },
        {
          "name": "stdout",
          "output_type": "stream",
          "text": [
            "1\n"
          ]
        },
        {
          "data": {
            "image/png": "[encoded data removed]",
            "text/plain": [
              "<Figure size 640x480 with 1 Axes>"
            ]
          },
          "metadata": {},
          "output_type": "display_data"
        }
      ],
      "source": [
        "# Explore data\n",
        "## YOUR CODE HERE ##\n",
        "show5(train_loader)\n",
        "images, labels = next(iter(train_loader))"
      ]
    },
    {
      "cell_type": "code",
      "execution_count": 34,
      "metadata": {
        "id": "F3GPAN1IQ6XE"
      },
      "outputs": [
        {
          "name": "stdout",
          "output_type": "stream",
          "text": [
            "7\n"
          ]
        },
        {
          "data": {
            "image/png": "[encoded data removed]",
            "text/plain": [
              "<Figure size 640x480 with 1 Axes>"
            ]
          },
          "metadata": {},
          "output_type": "display_data"
        },
        {
          "name": "stdout",
          "output_type": "stream",
          "text": [
            "2\n"
          ]
        },
        {
          "data": {
            "image/png": "[encoded data removed]",
            "text/plain": [
              "<Figure size 640x480 with 1 Axes>"
            ]
          },
          "metadata": {},
          "output_type": "display_data"
        },
        {
          "name": "stdout",
          "output_type": "stream",
          "text": [
            "1\n"
          ]
        },
        {
          "data": {
            "image/png": "[encoded data removed]",
            "text/plain": [
              "<Figure size 640x480 with 1 Axes>"
            ]
          },
          "metadata": {},
          "output_type": "display_data"
        },
        {
          "name": "stdout",
          "output_type": "stream",
          "text": [
            "0\n"
          ]
        },
        {
          "data": {
            "image/png": "[encoded data removed]",
            "text/plain": [
              "<Figure size 640x480 with 1 Axes>"
            ]
          },
          "metadata": {},
          "output_type": "display_data"
        },
        {
          "name": "stdout",
          "output_type": "stream",
          "text": [
            "4\n"
          ]
        },
        {
          "data": {
            "image/png": "[encoded data removed]",
            "text/plain": [
              "<Figure size 640x480 with 1 Axes>"
            ]
          },
          "metadata": {},
          "output_type": "display_data"
        }
      ],
      "source": [
        "show5(test_loader)\n",
        "images, labels = next(iter(test_loader))"
      ]
    },
    {
      "cell_type": "markdown",
      "metadata": {
        "id": "Y2Iafa3KQ6XE"
      },
      "source": [
        "## Build your Neural Network\n",
        "Using the layers in `torch.nn` (which has been imported as `nn`) and the `torch.nn.functional` module (imported as `F`), construct a neural network based on the parameters of the dataset.\n",
        "Use any architecture you like.\n",
        "\n",
        "*Note*: If you did not flatten your tensors in your transforms or as part of your preprocessing and you are using only `Linear` layers, make sure to use the `Flatten` layer in your network!"
      ]
    },
    {
      "cell_type": "code",
      "execution_count": 21,
      "metadata": {
        "id": "_Pf_s-HYQ6XF"
      },
      "outputs": [],
      "source": [
        "## YOUR CODE HERE ##\n",
        "class Classifier(nn.Module):\n",
        "    def __init__(self):\n",
        "        super().__init__()\n",
        "\n",
        "        self.activation = F.relu\n",
        "        self.dropout = nn.Dropout2d(p=0.2)\n",
        "        self.pool = nn.MaxPool2d(2, 2)\n",
        "\n",
        "        self.conv1 = nn.Conv2d(in_channels=1, out_channels=16, kernel_size=3, stride=1, padding=1)\n",
        "        self.conv2 = nn.Conv2d(in_channels=16, out_channels=32, kernel_size=3, stride=1, padding=1)\n",
        "\n",
        "        self.fc1 = nn.Linear(32*7*7, 64)\n",
        "        self.fc2 = nn.Linear(64, 32)\n",
        "        self.fc3 = nn.Linear(32, 10)\n",
        "\n",
        "    def forward(self, x):\n",
        "        x = self.dropout(self.activation(self.pool(self.conv1(x))))\n",
        "        x = self.dropout(self.activation(self.pool(self.conv2(x))))\n",
        "\n",
        "        x = x.view(x.shape[0], -1) # Flatten input tensor\n",
        "        x = self.dropout(self.activation(self.fc1(x)))\n",
        "        x = self.dropout(self.activation(self.fc2(x)))\n",
        "        x = self.activation(self.fc3(x)) # Output: No dropout here\n",
        "        return x"
      ]
    },
    {
      "cell_type": "markdown",
      "metadata": {
        "id": "qm8-cCzBQ6XF"
      },
      "source": [
        "Specify a loss function and an optimizer, and instantiate the model.\n",
        "\n",
        "If you use a less common loss function, please note why you chose that loss function in a comment."
      ]
    },
    {
      "cell_type": "code",
      "execution_count": 22,
      "metadata": {
        "id": "gsM3J3BBQ6XF"
      },
      "outputs": [],
      "source": [
        "## YOUR CODE HERE ##\n",
        "device = torch.device(\"cuda\" if torch.cuda.is_available() else \"cpu\") # Use GPU if it's available\n",
        "model = Classifier()\n",
        "model.to(device)\n",
        "criterion = nn.CrossEntropyLoss()\n",
        "optimizer = optim.Adam(model.parameters(), lr=0.001)"
      ]
    },
    {
      "cell_type": "markdown",
      "metadata": {
        "id": "i0GMJyfZQ6XF"
      },
      "source": [
        "## Running your Neural Network\n",
        "Use whatever method you like to train your neural network, and ensure you record the average loss at each epoch.\n",
        "Don't forget to use `torch.device()` and the `.to()` method for both your model and your data if you are using GPU!\n",
        "\n",
        "If you want to print your loss **during** each epoch, you can use the `enumerate` function and print the loss after a set number of batches. 250 batches works well for most people!"
      ]
    },
    {
      "cell_type": "code",
      "execution_count": 23,
      "metadata": {
        "id": "oKEuYKUAQ6XF"
      },
      "outputs": [],
      "source": [
        "## YOUR CODE HERE ##\n",
        "def train_model(optimizer,epochs):\n",
        "  train_loss_epoch = []\n",
        "  val_loss_epoch = []\n",
        "  val_accuracy_epoch = []\n",
        "  for epoch in range(epochs):\n",
        "      running_train_loss = 0\n",
        "      for train_images, train_labels in train_loader:\n",
        "          train_images, train_labels = train_images.to(device), train_labels.to(device)\n",
        "          optimizer.zero_grad()\n",
        "          output_images = model(train_images)\n",
        "          train_loss = criterion(output_images, train_labels)\n",
        "          train_loss.backward()\n",
        "          optimizer.step()\n",
        "          running_train_loss += train_loss.item()\n",
        "\n",
        "      train_loss_epoch.append(running_train_loss/len(train_loader))\n",
        "      print(f'Epoch {epoch+1} / {epochs}...training finished. Training loss = {running_train_loss/len(train_loader):.5f}')\n",
        "\n",
        "      model.eval()\n",
        "      with torch.no_grad():\n",
        "          running_val_loss = 0\n",
        "          running_val_accuracy = 0\n",
        "          for test_images, test_labels in validate_loader:\n",
        "              test_images, test_labels = test_images.to(device), test_labels.to(device)\n",
        "              output_images = model(test_images)\n",
        "              test_loss = criterion(output_images, test_labels)\n",
        "              _, preds = torch.max(output_images.data, 1)\n",
        "              check = (preds == test_labels)\n",
        "              running_val_accuracy += check.sum().div(len(check))\n",
        "              running_val_loss += test_loss.item()\n",
        "\n",
        "          val_loss_epoch.append(running_val_loss/len(validate_loader))\n",
        "          val_accuracy_epoch.append(running_val_accuracy/len(validate_loader))\n",
        "          print(f'Epoch {epoch+1} / {epochs}. Validation loss = {running_val_loss/len(validate_loader):.5f}. Validation accuracy = {running_val_accuracy/len(validate_loader):.5f}')\n",
        "      model.train()\n",
        "\n",
        "  return train_loss_epoch, val_loss_epoch, val_accuracy_epoch"
      ]
    },
    {
      "cell_type": "code",
      "execution_count": 24,
      "metadata": {
        "colab": {
          "base_uri": "https://localhost:8080/"
        },
        "id": "28xC46PtcXnz",
        "outputId": "c8ef9fb0-31b6-4625-95f7-ad7db111f474"
      },
      "outputs": [
        {
          "name": "stdout",
          "output_type": "stream",
          "text": [
            "Epoch 1 / 50...training finished. Training loss = 1.19544\n",
            "Epoch 1 / 50. Validation loss = 0.65523. Validation accuracy = 0.77950\n",
            "Epoch 2 / 50...training finished. Training loss = 0.80167\n",
            "Epoch 2 / 50. Validation loss = 0.52185. Validation accuracy = 0.82350\n",
            "Epoch 3 / 50...training finished. Training loss = 0.69014\n",
            "Epoch 3 / 50. Validation loss = 0.46690. Validation accuracy = 0.85639\n",
            "Epoch 4 / 50...training finished. Training loss = 0.61574\n",
            "Epoch 4 / 50. Validation loss = 0.37364. Validation accuracy = 0.88017\n",
            "Epoch 5 / 50...training finished. Training loss = 0.56809\n",
            "Epoch 5 / 50. Validation loss = 0.33246. Validation accuracy = 0.89656\n",
            "Epoch 6 / 50...training finished. Training loss = 0.53477\n",
            "Epoch 6 / 50. Validation loss = 0.31388. Validation accuracy = 0.90383\n",
            "Epoch 7 / 50...training finished. Training loss = 0.51190\n",
            "Epoch 7 / 50. Validation loss = 0.29705. Validation accuracy = 0.90789\n",
            "Epoch 8 / 50...training finished. Training loss = 0.48822\n",
            "Epoch 8 / 50. Validation loss = 0.28382. Validation accuracy = 0.91122\n",
            "Epoch 9 / 50...training finished. Training loss = 0.47281\n",
            "Epoch 9 / 50. Validation loss = 0.28010. Validation accuracy = 0.91434\n",
            "Epoch 10 / 50...training finished. Training loss = 0.46491\n",
            "Epoch 10 / 50. Validation loss = 0.26989. Validation accuracy = 0.91517\n",
            "Epoch 11 / 50...training finished. Training loss = 0.45631\n",
            "Epoch 11 / 50. Validation loss = 0.26585. Validation accuracy = 0.91900\n",
            "Epoch 12 / 50...training finished. Training loss = 0.44653\n",
            "Epoch 12 / 50. Validation loss = 0.25285. Validation accuracy = 0.92323\n",
            "Epoch 13 / 50...training finished. Training loss = 0.43754\n",
            "Epoch 13 / 50. Validation loss = 0.25336. Validation accuracy = 0.92284\n",
            "Epoch 14 / 50...training finished. Training loss = 0.42591\n",
            "Epoch 14 / 50. Validation loss = 0.24503. Validation accuracy = 0.92450\n",
            "Epoch 15 / 50...training finished. Training loss = 0.42299\n",
            "Epoch 15 / 50. Validation loss = 0.23656. Validation accuracy = 0.92673\n",
            "Epoch 16 / 50...training finished. Training loss = 0.41224\n",
            "Epoch 16 / 50. Validation loss = 0.23578. Validation accuracy = 0.92723\n",
            "Epoch 17 / 50...training finished. Training loss = 0.40649\n",
            "Epoch 17 / 50. Validation loss = 0.22506. Validation accuracy = 0.93167\n",
            "Epoch 18 / 50...training finished. Training loss = 0.40867\n",
            "Epoch 18 / 50. Validation loss = 0.21931. Validation accuracy = 0.93178\n",
            "Epoch 19 / 50...training finished. Training loss = 0.40040\n",
            "Epoch 19 / 50. Validation loss = 0.22280. Validation accuracy = 0.93295\n",
            "Epoch 20 / 50...training finished. Training loss = 0.39414\n",
            "Epoch 20 / 50. Validation loss = 0.21291. Validation accuracy = 0.93461\n",
            "Epoch 21 / 50...training finished. Training loss = 0.38428\n",
            "Epoch 21 / 50. Validation loss = 0.21256. Validation accuracy = 0.93445\n",
            "Epoch 22 / 50...training finished. Training loss = 0.37833\n",
            "Epoch 22 / 50. Validation loss = 0.21180. Validation accuracy = 0.93500\n",
            "Epoch 23 / 50...training finished. Training loss = 0.37322\n",
            "Epoch 23 / 50. Validation loss = 0.20613. Validation accuracy = 0.93617\n",
            "Epoch 24 / 50...training finished. Training loss = 0.37231\n",
            "Epoch 24 / 50. Validation loss = 0.20103. Validation accuracy = 0.93806\n",
            "Epoch 25 / 50...training finished. Training loss = 0.36802\n",
            "Epoch 25 / 50. Validation loss = 0.20066. Validation accuracy = 0.93878\n",
            "Epoch 26 / 50...training finished. Training loss = 0.36831\n",
            "Epoch 26 / 50. Validation loss = 0.20077. Validation accuracy = 0.93845\n",
            "Epoch 27 / 50...training finished. Training loss = 0.36144\n",
            "Epoch 27 / 50. Validation loss = 0.19922. Validation accuracy = 0.93823\n",
            "Epoch 28 / 50...training finished. Training loss = 0.36474\n",
            "Epoch 28 / 50. Validation loss = 0.19014. Validation accuracy = 0.94217\n",
            "Epoch 29 / 50...training finished. Training loss = 0.35902\n",
            "Epoch 29 / 50. Validation loss = 0.19410. Validation accuracy = 0.94100\n",
            "Epoch 30 / 50...training finished. Training loss = 0.35205\n",
            "Epoch 30 / 50. Validation loss = 0.19185. Validation accuracy = 0.94089\n",
            "Epoch 31 / 50...training finished. Training loss = 0.34529\n",
            "Epoch 31 / 50. Validation loss = 0.18538. Validation accuracy = 0.94400\n",
            "Epoch 32 / 50...training finished. Training loss = 0.34888\n",
            "Epoch 32 / 50. Validation loss = 0.18590. Validation accuracy = 0.94206\n",
            "Epoch 33 / 50...training finished. Training loss = 0.35198\n",
            "Epoch 33 / 50. Validation loss = 0.18000. Validation accuracy = 0.94234\n",
            "Epoch 34 / 50...training finished. Training loss = 0.34316\n",
            "Epoch 34 / 50. Validation loss = 0.18800. Validation accuracy = 0.94195\n",
            "Epoch 35 / 50...training finished. Training loss = 0.34159\n",
            "Epoch 35 / 50. Validation loss = 0.18710. Validation accuracy = 0.94145\n",
            "Epoch 36 / 50...training finished. Training loss = 0.34112\n",
            "Epoch 36 / 50. Validation loss = 0.18402. Validation accuracy = 0.94261\n",
            "Epoch 37 / 50...training finished. Training loss = 0.33426\n",
            "Epoch 37 / 50. Validation loss = 0.17974. Validation accuracy = 0.94550\n",
            "Epoch 38 / 50...training finished. Training loss = 0.33562\n",
            "Epoch 38 / 50. Validation loss = 0.18302. Validation accuracy = 0.94289\n",
            "Epoch 39 / 50...training finished. Training loss = 0.33885\n",
            "Epoch 39 / 50. Validation loss = 0.17941. Validation accuracy = 0.94489\n",
            "Epoch 40 / 50...training finished. Training loss = 0.33482\n",
            "Epoch 40 / 50. Validation loss = 0.17521. Validation accuracy = 0.94461\n",
            "Epoch 41 / 50...training finished. Training loss = 0.33115\n",
            "Epoch 41 / 50. Validation loss = 0.17692. Validation accuracy = 0.94545\n",
            "Epoch 42 / 50...training finished. Training loss = 0.33244\n",
            "Epoch 42 / 50. Validation loss = 0.17721. Validation accuracy = 0.94539\n",
            "Epoch 43 / 50...training finished. Training loss = 0.33132\n",
            "Epoch 43 / 50. Validation loss = 0.17080. Validation accuracy = 0.94867\n",
            "Epoch 44 / 50...training finished. Training loss = 0.33429\n",
            "Epoch 44 / 50. Validation loss = 0.18524. Validation accuracy = 0.94334\n",
            "Epoch 45 / 50...training finished. Training loss = 0.32729\n",
            "Epoch 45 / 50. Validation loss = 0.17747. Validation accuracy = 0.94573\n",
            "Epoch 46 / 50...training finished. Training loss = 0.32994\n",
            "Epoch 46 / 50. Validation loss = 0.17645. Validation accuracy = 0.94623\n",
            "Epoch 47 / 50...training finished. Training loss = 0.32101\n",
            "Epoch 47 / 50. Validation loss = 0.16836. Validation accuracy = 0.94950\n",
            "Epoch 48 / 50...training finished. Training loss = 0.32260\n",
            "Epoch 48 / 50. Validation loss = 0.17146. Validation accuracy = 0.94567\n",
            "Epoch 49 / 50...training finished. Training loss = 0.32475\n",
            "Epoch 49 / 50. Validation loss = 0.16759. Validation accuracy = 0.94962\n",
            "Epoch 50 / 50...training finished. Training loss = 0.32151\n",
            "Epoch 50 / 50. Validation loss = 0.17299. Validation accuracy = 0.94600\n"
          ]
        }
      ],
      "source": [
        "epochs = 50\n",
        "train_loss_epoch, val_loss_epoch, val_accuracy_epoch = train_model(optimizer,epochs)"
      ]
    },
    {
      "cell_type": "markdown",
      "metadata": {
        "id": "1Sj15f5AQ6XF"
      },
      "source": [
        "Plot the training loss (and validation loss/accuracy, if recorded)."
      ]
    },
    {
      "cell_type": "code",
      "execution_count": 25,
      "metadata": {
        "colab": {
          "base_uri": "https://localhost:8080/",
          "height": 430
        },
        "id": "oLGT8s7VQ6XG",
        "outputId": "3b9c1645-fbc1-49ff-d726-ced0aba546c4"
      },
      "outputs": [
        {
          "data": {
            "image/png": "[encoded data removed]",
            "text/plain": [
              "<Figure size 640x480 with 1 Axes>"
            ]
          },
          "metadata": {},
          "output_type": "display_data"
        }
      ],
      "source": [
        "## YOUR CODE HERE ##\n",
        "plt.plot(train_loss_epoch, label='Training loss')\n",
        "plt.plot(val_loss_epoch, label=\"Validation Loss\")\n",
        "plt.legend()\n",
        "plt.show()"
      ]
    },
    {
      "cell_type": "code",
      "execution_count": 26,
      "metadata": {
        "colab": {
          "base_uri": "https://localhost:8080/",
          "height": 430
        },
        "id": "FLINjNvGeN8A",
        "outputId": "4201aa72-db8c-4af7-cdf6-4a2c328ba3f7"
      },
      "outputs": [
        {
          "data": {
            "image/png": "[encoded data removed]",
            "text/plain": [
              "<Figure size 640x480 with 1 Axes>"
            ]
          },
          "metadata": {},
          "output_type": "display_data"
        }
      ],
      "source": [
        "val_accuracy_epoch = np.array([x.item() for x in val_accuracy_epoch])\n",
        "plt.plot(val_accuracy_epoch, label=\"Validation Accuracy\")\n",
        "plt.legend()\n",
        "plt.show()"
      ]
    },
    {
      "cell_type": "markdown",
      "metadata": {
        "id": "KjqpJ1W0Q6XG"
      },
      "source": [
        "## Testing your model\n",
        "Using the previously created `DataLoader` for the test set, compute the percentage of correct predictions using the highest probability prediction.\n",
        "\n",
        "If your accuracy is over 90%, great work, but see if you can push a bit further!\n",
        "If your accuracy is under 90%, you'll need to make improvements.\n",
        "Go back and check your model architecture, loss function, and optimizer to make sure they're appropriate for an image classification task."
      ]
    },
    {
      "cell_type": "code",
      "execution_count": 27,
      "metadata": {
        "id": "D7-Y7v6mQ6XG"
      },
      "outputs": [],
      "source": [
        "## YOUR CODE HERE ##\n",
        "def test_model():\n",
        "  test_accuracy = 0\n",
        "  model.eval()\n",
        "  with torch.no_grad():\n",
        "      for test_images, test_labels in test_loader:\n",
        "          test_images, test_labels = test_images.to(device), test_labels.to(device)\n",
        "          output_images = model(test_images)\n",
        "          _, preds = torch.max(output_images.data, 1)\n",
        "          check = (preds == test_labels)\n",
        "          test_accuracy += check.sum().div(len(check))\n",
        "\n",
        "  test_accuracy = test_accuracy / len(test_loader)\n",
        "  print(f\"Test accuracy: {test_accuracy:.5f}\")\n",
        "  model.train()\n",
        "  return test_accuracy"
      ]
    },
    {
      "cell_type": "code",
      "execution_count": 28,
      "metadata": {
        "colab": {
          "base_uri": "https://localhost:8080/"
        },
        "id": "oPzrZsMtbqfk",
        "outputId": "9fd247c6-4de0-451e-a763-be5087b96c2a"
      },
      "outputs": [
        {
          "name": "stdout",
          "output_type": "stream",
          "text": [
            "Test accuracy: 0.96270\n"
          ]
        }
      ],
      "source": [
        "test_accuracy = test_model()"
      ]
    },
    {
      "cell_type": "markdown",
      "metadata": {
        "id": "eVy2ZNg6Q6XG"
      },
      "source": [
        "## Improving your model\n",
        "\n",
        "Once your model is done training, try tweaking your hyperparameters and training again below to improve your accuracy on the test set!"
      ]
    },
    {
      "cell_type": "code",
      "execution_count": 29,
      "metadata": {
        "colab": {
          "base_uri": "https://localhost:8080/"
        },
        "id": "SOd8cp4_Q6XG",
        "outputId": "7dda4cfd-3da4-40d9-de62-f08c0649e5a9"
      },
      "outputs": [
        {
          "name": "stdout",
          "output_type": "stream",
          "text": [
            "Epoch 1 / 100...training finished. Training loss = 0.31001\n",
            "Epoch 1 / 100. Validation loss = 0.16003. Validation accuracy = 0.94956\n",
            "Epoch 2 / 100...training finished. Training loss = 0.29764\n",
            "Epoch 2 / 100. Validation loss = 0.15958. Validation accuracy = 0.95012\n",
            "Epoch 3 / 100...training finished. Training loss = 0.28967\n",
            "Epoch 3 / 100. Validation loss = 0.15609. Validation accuracy = 0.95178\n",
            "Epoch 4 / 100...training finished. Training loss = 0.29299\n",
            "Epoch 4 / 100. Validation loss = 0.15284. Validation accuracy = 0.95206\n",
            "Epoch 5 / 100...training finished. Training loss = 0.29041\n",
            "Epoch 5 / 100. Validation loss = 0.15237. Validation accuracy = 0.95256\n",
            "Epoch 6 / 100...training finished. Training loss = 0.28817\n",
            "Epoch 6 / 100. Validation loss = 0.15782. Validation accuracy = 0.95100\n",
            "Epoch 7 / 100...training finished. Training loss = 0.29097\n",
            "Epoch 7 / 100. Validation loss = 0.15724. Validation accuracy = 0.95056\n",
            "Epoch 8 / 100...training finished. Training loss = 0.28588\n",
            "Epoch 8 / 100. Validation loss = 0.15698. Validation accuracy = 0.95184\n",
            "Epoch 9 / 100...training finished. Training loss = 0.28496\n",
            "Epoch 9 / 100. Validation loss = 0.15069. Validation accuracy = 0.95362\n",
            "Epoch 10 / 100...training finished. Training loss = 0.28569\n",
            "Epoch 10 / 100. Validation loss = 0.15435. Validation accuracy = 0.95423\n",
            "Epoch 11 / 100...training finished. Training loss = 0.28482\n",
            "Epoch 11 / 100. Validation loss = 0.15206. Validation accuracy = 0.95211\n",
            "Epoch 12 / 100...training finished. Training loss = 0.28487\n",
            "Epoch 12 / 100. Validation loss = 0.14986. Validation accuracy = 0.95361\n",
            "Epoch 13 / 100...training finished. Training loss = 0.28450\n",
            "Epoch 13 / 100. Validation loss = 0.15114. Validation accuracy = 0.95334\n",
            "Epoch 14 / 100...training finished. Training loss = 0.27968\n",
            "Epoch 14 / 100. Validation loss = 0.15009. Validation accuracy = 0.95339\n",
            "Epoch 15 / 100...training finished. Training loss = 0.28156\n",
            "Epoch 15 / 100. Validation loss = 0.14859. Validation accuracy = 0.95406\n",
            "Epoch 16 / 100...training finished. Training loss = 0.27789\n",
            "Epoch 16 / 100. Validation loss = 0.14943. Validation accuracy = 0.95439\n",
            "Epoch 17 / 100...training finished. Training loss = 0.28374\n",
            "Epoch 17 / 100. Validation loss = 0.14214. Validation accuracy = 0.95506\n",
            "Epoch 18 / 100...training finished. Training loss = 0.27681\n",
            "Epoch 18 / 100. Validation loss = 0.14769. Validation accuracy = 0.95411\n",
            "Epoch 19 / 100...training finished. Training loss = 0.28266\n",
            "Epoch 19 / 100. Validation loss = 0.14875. Validation accuracy = 0.95361\n",
            "Epoch 20 / 100...training finished. Training loss = 0.28130\n",
            "Epoch 20 / 100. Validation loss = 0.14895. Validation accuracy = 0.95439\n",
            "Epoch 21 / 100...training finished. Training loss = 0.27936\n",
            "Epoch 21 / 100. Validation loss = 0.15028. Validation accuracy = 0.95450\n",
            "Epoch 22 / 100...training finished. Training loss = 0.28141\n",
            "Epoch 22 / 100. Validation loss = 0.14703. Validation accuracy = 0.95573\n",
            "Epoch 23 / 100...training finished. Training loss = 0.27946\n",
            "Epoch 23 / 100. Validation loss = 0.14469. Validation accuracy = 0.95561\n",
            "Epoch 24 / 100...training finished. Training loss = 0.27679\n",
            "Epoch 24 / 100. Validation loss = 0.14921. Validation accuracy = 0.95550\n",
            "Epoch 25 / 100...training finished. Training loss = 0.27675\n",
            "Epoch 25 / 100. Validation loss = 0.14831. Validation accuracy = 0.95345\n",
            "Epoch 26 / 100...training finished. Training loss = 0.27323\n",
            "Epoch 26 / 100. Validation loss = 0.15012. Validation accuracy = 0.95450\n",
            "Epoch 27 / 100...training finished. Training loss = 0.27295\n",
            "Epoch 27 / 100. Validation loss = 0.14374. Validation accuracy = 0.95423\n",
            "Epoch 28 / 100...training finished. Training loss = 0.27451\n",
            "Epoch 28 / 100. Validation loss = 0.14624. Validation accuracy = 0.95550\n",
            "Epoch 29 / 100...training finished. Training loss = 0.27243\n",
            "Epoch 29 / 100. Validation loss = 0.14599. Validation accuracy = 0.95512\n",
            "Epoch 30 / 100...training finished. Training loss = 0.27749\n",
            "Epoch 30 / 100. Validation loss = 0.15115. Validation accuracy = 0.95250\n",
            "Epoch 31 / 100...training finished. Training loss = 0.27938\n",
            "Epoch 31 / 100. Validation loss = 0.14396. Validation accuracy = 0.95595\n",
            "Epoch 32 / 100...training finished. Training loss = 0.27847\n",
            "Epoch 32 / 100. Validation loss = 0.14748. Validation accuracy = 0.95473\n",
            "Epoch 33 / 100...training finished. Training loss = 0.27791\n",
            "Epoch 33 / 100. Validation loss = 0.14590. Validation accuracy = 0.95545\n",
            "Epoch 34 / 100...training finished. Training loss = 0.27189\n",
            "Epoch 34 / 100. Validation loss = 0.14771. Validation accuracy = 0.95450\n",
            "Epoch 35 / 100...training finished. Training loss = 0.27550\n",
            "Epoch 35 / 100. Validation loss = 0.14543. Validation accuracy = 0.95528\n",
            "Epoch 36 / 100...training finished. Training loss = 0.27748\n",
            "Epoch 36 / 100. Validation loss = 0.14278. Validation accuracy = 0.95611\n",
            "Epoch 37 / 100...training finished. Training loss = 0.28358\n",
            "Epoch 37 / 100. Validation loss = 0.14821. Validation accuracy = 0.95417\n",
            "Epoch 38 / 100...training finished. Training loss = 0.27460\n",
            "Epoch 38 / 100. Validation loss = 0.14402. Validation accuracy = 0.95456\n",
            "Epoch 39 / 100...training finished. Training loss = 0.27612\n",
            "Epoch 39 / 100. Validation loss = 0.14540. Validation accuracy = 0.95534\n",
            "Epoch 40 / 100...training finished. Training loss = 0.27132\n",
            "Epoch 40 / 100. Validation loss = 0.14823. Validation accuracy = 0.95484\n",
            "Epoch 41 / 100...training finished. Training loss = 0.27623\n",
            "Epoch 41 / 100. Validation loss = 0.14479. Validation accuracy = 0.95584\n",
            "Epoch 42 / 100...training finished. Training loss = 0.27417\n",
            "Epoch 42 / 100. Validation loss = 0.14345. Validation accuracy = 0.95395\n",
            "Epoch 43 / 100...training finished. Training loss = 0.27036\n",
            "Epoch 43 / 100. Validation loss = 0.14682. Validation accuracy = 0.95478\n",
            "Epoch 44 / 100...training finished. Training loss = 0.27588\n",
            "Epoch 44 / 100. Validation loss = 0.14558. Validation accuracy = 0.95567\n",
            "Epoch 45 / 100...training finished. Training loss = 0.27273\n",
            "Epoch 45 / 100. Validation loss = 0.14607. Validation accuracy = 0.95361\n",
            "Epoch 46 / 100...training finished. Training loss = 0.26539\n",
            "Epoch 46 / 100. Validation loss = 0.14308. Validation accuracy = 0.95523\n",
            "Epoch 47 / 100...training finished. Training loss = 0.26936\n",
            "Epoch 47 / 100. Validation loss = 0.14052. Validation accuracy = 0.95667\n",
            "Epoch 48 / 100...training finished. Training loss = 0.26816\n",
            "Epoch 48 / 100. Validation loss = 0.14014. Validation accuracy = 0.95867\n",
            "Epoch 49 / 100...training finished. Training loss = 0.27238\n",
            "Epoch 49 / 100. Validation loss = 0.14223. Validation accuracy = 0.95700\n",
            "Epoch 50 / 100...training finished. Training loss = 0.27451\n",
            "Epoch 50 / 100. Validation loss = 0.14507. Validation accuracy = 0.95312\n",
            "Epoch 51 / 100...training finished. Training loss = 0.27170\n",
            "Epoch 51 / 100. Validation loss = 0.14530. Validation accuracy = 0.95500\n",
            "Epoch 52 / 100...training finished. Training loss = 0.26367\n",
            "Epoch 52 / 100. Validation loss = 0.14197. Validation accuracy = 0.95495\n",
            "Epoch 53 / 100...training finished. Training loss = 0.27006\n",
            "Epoch 53 / 100. Validation loss = 0.14031. Validation accuracy = 0.95611\n",
            "Epoch 54 / 100...training finished. Training loss = 0.27144\n",
            "Epoch 54 / 100. Validation loss = 0.14239. Validation accuracy = 0.95600\n",
            "Epoch 55 / 100...training finished. Training loss = 0.26850\n",
            "Epoch 55 / 100. Validation loss = 0.14257. Validation accuracy = 0.95611\n",
            "Epoch 56 / 100...training finished. Training loss = 0.27095\n",
            "Epoch 56 / 100. Validation loss = 0.14208. Validation accuracy = 0.95667\n",
            "Epoch 57 / 100...training finished. Training loss = 0.27126\n",
            "Epoch 57 / 100. Validation loss = 0.14139. Validation accuracy = 0.95573\n",
            "Epoch 58 / 100...training finished. Training loss = 0.26426\n",
            "Epoch 58 / 100. Validation loss = 0.13982. Validation accuracy = 0.95367\n",
            "Epoch 59 / 100...training finished. Training loss = 0.26900\n",
            "Epoch 59 / 100. Validation loss = 0.14594. Validation accuracy = 0.95550\n",
            "Epoch 60 / 100...training finished. Training loss = 0.26803\n",
            "Epoch 60 / 100. Validation loss = 0.14203. Validation accuracy = 0.95562\n",
            "Epoch 61 / 100...training finished. Training loss = 0.26926\n",
            "Epoch 61 / 100. Validation loss = 0.14236. Validation accuracy = 0.95756\n",
            "Epoch 62 / 100...training finished. Training loss = 0.26759\n",
            "Epoch 62 / 100. Validation loss = 0.14087. Validation accuracy = 0.95678\n",
            "Epoch 63 / 100...training finished. Training loss = 0.26487\n",
            "Epoch 63 / 100. Validation loss = 0.14050. Validation accuracy = 0.95717\n",
            "Epoch 64 / 100...training finished. Training loss = 0.27186\n",
            "Epoch 64 / 100. Validation loss = 0.14152. Validation accuracy = 0.95639\n",
            "Epoch 65 / 100...training finished. Training loss = 0.26870\n",
            "Epoch 65 / 100. Validation loss = 0.13941. Validation accuracy = 0.95684\n",
            "Epoch 66 / 100...training finished. Training loss = 0.27148\n",
            "Epoch 66 / 100. Validation loss = 0.14336. Validation accuracy = 0.95506\n",
            "Epoch 67 / 100...training finished. Training loss = 0.26571\n",
            "Epoch 67 / 100. Validation loss = 0.14456. Validation accuracy = 0.95434\n",
            "Epoch 68 / 100...training finished. Training loss = 0.27166\n",
            "Epoch 68 / 100. Validation loss = 0.14128. Validation accuracy = 0.95661\n",
            "Epoch 69 / 100...training finished. Training loss = 0.26887\n",
            "Epoch 69 / 100. Validation loss = 0.13938. Validation accuracy = 0.95667\n",
            "Epoch 70 / 100...training finished. Training loss = 0.26514\n",
            "Epoch 70 / 100. Validation loss = 0.14144. Validation accuracy = 0.95600\n",
            "Epoch 71 / 100...training finished. Training loss = 0.26614\n",
            "Epoch 71 / 100. Validation loss = 0.14001. Validation accuracy = 0.95684\n",
            "Epoch 72 / 100...training finished. Training loss = 0.27043\n",
            "Epoch 72 / 100. Validation loss = 0.14268. Validation accuracy = 0.95600\n",
            "Epoch 73 / 100...training finished. Training loss = 0.26906\n",
            "Epoch 73 / 100. Validation loss = 0.13952. Validation accuracy = 0.95606\n",
            "Epoch 74 / 100...training finished. Training loss = 0.26618\n",
            "Epoch 74 / 100. Validation loss = 0.14296. Validation accuracy = 0.95539\n",
            "Epoch 75 / 100...training finished. Training loss = 0.26619\n",
            "Epoch 75 / 100. Validation loss = 0.13970. Validation accuracy = 0.95867\n",
            "Epoch 76 / 100...training finished. Training loss = 0.25897\n",
            "Epoch 76 / 100. Validation loss = 0.13989. Validation accuracy = 0.95606\n",
            "Epoch 77 / 100...training finished. Training loss = 0.26991\n",
            "Epoch 77 / 100. Validation loss = 0.13926. Validation accuracy = 0.95750\n",
            "Epoch 78 / 100...training finished. Training loss = 0.26864\n",
            "Epoch 78 / 100. Validation loss = 0.14230. Validation accuracy = 0.95517\n",
            "Epoch 79 / 100...training finished. Training loss = 0.26856\n",
            "Epoch 79 / 100. Validation loss = 0.14115. Validation accuracy = 0.95606\n",
            "Epoch 80 / 100...training finished. Training loss = 0.26597\n",
            "Epoch 80 / 100. Validation loss = 0.14343. Validation accuracy = 0.95623\n",
            "Epoch 81 / 100...training finished. Training loss = 0.26809\n",
            "Epoch 81 / 100. Validation loss = 0.13848. Validation accuracy = 0.95800\n",
            "Epoch 82 / 100...training finished. Training loss = 0.26587\n",
            "Epoch 82 / 100. Validation loss = 0.14309. Validation accuracy = 0.95656\n",
            "Epoch 83 / 100...training finished. Training loss = 0.26482\n",
            "Epoch 83 / 100. Validation loss = 0.14076. Validation accuracy = 0.95728\n",
            "Epoch 84 / 100...training finished. Training loss = 0.26831\n",
            "Epoch 84 / 100. Validation loss = 0.14233. Validation accuracy = 0.95556\n",
            "Epoch 85 / 100...training finished. Training loss = 0.26603\n",
            "Epoch 85 / 100. Validation loss = 0.13995. Validation accuracy = 0.95811\n",
            "Epoch 86 / 100...training finished. Training loss = 0.26809\n",
            "Epoch 86 / 100. Validation loss = 0.13634. Validation accuracy = 0.95950\n",
            "Epoch 87 / 100...training finished. Training loss = 0.26499\n",
            "Epoch 87 / 100. Validation loss = 0.13697. Validation accuracy = 0.95845\n",
            "Epoch 88 / 100...training finished. Training loss = 0.26758\n",
            "Epoch 88 / 100. Validation loss = 0.14216. Validation accuracy = 0.95573\n",
            "Epoch 89 / 100...training finished. Training loss = 0.26149\n",
            "Epoch 89 / 100. Validation loss = 0.14251. Validation accuracy = 0.95673\n",
            "Epoch 90 / 100...training finished. Training loss = 0.27036\n",
            "Epoch 90 / 100. Validation loss = 0.13936. Validation accuracy = 0.95767\n",
            "Epoch 91 / 100...training finished. Training loss = 0.26365\n",
            "Epoch 91 / 100. Validation loss = 0.13849. Validation accuracy = 0.95812\n",
            "Epoch 92 / 100...training finished. Training loss = 0.26148\n",
            "Epoch 92 / 100. Validation loss = 0.13688. Validation accuracy = 0.95800\n",
            "Epoch 93 / 100...training finished. Training loss = 0.26777\n",
            "Epoch 93 / 100. Validation loss = 0.14071. Validation accuracy = 0.95623\n",
            "Epoch 94 / 100...training finished. Training loss = 0.26038\n",
            "Epoch 94 / 100. Validation loss = 0.13660. Validation accuracy = 0.95906\n",
            "Epoch 95 / 100...training finished. Training loss = 0.26712\n",
            "Epoch 95 / 100. Validation loss = 0.13583. Validation accuracy = 0.95745\n",
            "Epoch 96 / 100...training finished. Training loss = 0.26909\n",
            "Epoch 96 / 100. Validation loss = 0.14056. Validation accuracy = 0.95773\n",
            "Epoch 97 / 100...training finished. Training loss = 0.26242\n",
            "Epoch 97 / 100. Validation loss = 0.14012. Validation accuracy = 0.95706\n",
            "Epoch 98 / 100...training finished. Training loss = 0.26475\n",
            "Epoch 98 / 100. Validation loss = 0.14171. Validation accuracy = 0.95667\n",
            "Epoch 99 / 100...training finished. Training loss = 0.26357\n",
            "Epoch 99 / 100. Validation loss = 0.13764. Validation accuracy = 0.95706\n",
            "Epoch 100 / 100...training finished. Training loss = 0.26685\n",
            "Epoch 100 / 100. Validation loss = 0.13769. Validation accuracy = 0.95756\n",
            "Test accuracy: 0.97010\n",
            "Epoch 1 / 100...training finished. Training loss = 0.27102\n",
            "Epoch 1 / 100. Validation loss = 0.14060. Validation accuracy = 0.95539\n",
            "Epoch 2 / 100...training finished. Training loss = 0.28424\n",
            "Epoch 2 / 100. Validation loss = 0.14528. Validation accuracy = 0.95578\n",
            "Epoch 3 / 100...training finished. Training loss = 0.27707\n",
            "Epoch 3 / 100. Validation loss = 0.14477. Validation accuracy = 0.95556\n",
            "Epoch 4 / 100...training finished. Training loss = 0.28013\n",
            "Epoch 4 / 100. Validation loss = 0.15311. Validation accuracy = 0.95311\n",
            "Epoch 5 / 100...training finished. Training loss = 0.27865\n",
            "Epoch 5 / 100. Validation loss = 0.14679. Validation accuracy = 0.95478\n",
            "Epoch 6 / 100...training finished. Training loss = 0.27804\n",
            "Epoch 6 / 100. Validation loss = 0.14990. Validation accuracy = 0.95506\n",
            "Epoch 7 / 100...training finished. Training loss = 0.28278\n",
            "Epoch 7 / 100. Validation loss = 0.14550. Validation accuracy = 0.95545\n",
            "Epoch 8 / 100...training finished. Training loss = 0.28134\n",
            "Epoch 8 / 100. Validation loss = 0.14235. Validation accuracy = 0.95639\n",
            "Epoch 9 / 100...training finished. Training loss = 0.28353\n",
            "Epoch 9 / 100. Validation loss = 0.15198. Validation accuracy = 0.95378\n",
            "Epoch 10 / 100...training finished. Training loss = 0.27981\n",
            "Epoch 10 / 100. Validation loss = 0.14680. Validation accuracy = 0.95728\n",
            "Epoch 11 / 100...training finished. Training loss = 0.28029\n",
            "Epoch 11 / 100. Validation loss = 0.14333. Validation accuracy = 0.95556\n",
            "Epoch 12 / 100...training finished. Training loss = 0.28035\n",
            "Epoch 12 / 100. Validation loss = 0.14901. Validation accuracy = 0.95500\n",
            "Epoch 13 / 100...training finished. Training loss = 0.28169\n",
            "Epoch 13 / 100. Validation loss = 0.14277. Validation accuracy = 0.95578\n",
            "Epoch 14 / 100...training finished. Training loss = 0.28390\n",
            "Epoch 14 / 100. Validation loss = 0.14150. Validation accuracy = 0.95706\n",
            "Epoch 15 / 100...training finished. Training loss = 0.27810\n",
            "Epoch 15 / 100. Validation loss = 0.14873. Validation accuracy = 0.95473\n",
            "Epoch 16 / 100...training finished. Training loss = 0.28083\n",
            "Epoch 16 / 100. Validation loss = 0.14738. Validation accuracy = 0.95489\n",
            "Epoch 17 / 100...training finished. Training loss = 0.27089\n",
            "Epoch 17 / 100. Validation loss = 0.14340. Validation accuracy = 0.95467\n",
            "Epoch 18 / 100...training finished. Training loss = 0.28423\n",
            "Epoch 18 / 100. Validation loss = 0.14463. Validation accuracy = 0.95345\n",
            "Epoch 19 / 100...training finished. Training loss = 0.28072\n",
            "Epoch 19 / 100. Validation loss = 0.14726. Validation accuracy = 0.95406\n",
            "Epoch 20 / 100...training finished. Training loss = 0.28001\n",
            "Epoch 20 / 100. Validation loss = 0.14071. Validation accuracy = 0.95623\n",
            "Epoch 21 / 100...training finished. Training loss = 0.27977\n",
            "Epoch 21 / 100. Validation loss = 0.14612. Validation accuracy = 0.95545\n",
            "Epoch 22 / 100...training finished. Training loss = 0.28053\n",
            "Epoch 22 / 100. Validation loss = 0.14394. Validation accuracy = 0.95561\n",
            "Epoch 23 / 100...training finished. Training loss = 0.27973\n",
            "Epoch 23 / 100. Validation loss = 0.14452. Validation accuracy = 0.95395\n",
            "Epoch 24 / 100...training finished. Training loss = 0.28280\n",
            "Epoch 24 / 100. Validation loss = 0.14801. Validation accuracy = 0.95539\n",
            "Epoch 25 / 100...training finished. Training loss = 0.27711\n",
            "Epoch 25 / 100. Validation loss = 0.13987. Validation accuracy = 0.95711\n",
            "Epoch 26 / 100...training finished. Training loss = 0.27646\n",
            "Epoch 26 / 100. Validation loss = 0.14563. Validation accuracy = 0.95567\n",
            "Epoch 27 / 100...training finished. Training loss = 0.27858\n",
            "Epoch 27 / 100. Validation loss = 0.14490. Validation accuracy = 0.95606\n",
            "Epoch 28 / 100...training finished. Training loss = 0.27797\n",
            "Epoch 28 / 100. Validation loss = 0.14278. Validation accuracy = 0.95739\n",
            "Epoch 29 / 100...training finished. Training loss = 0.28190\n",
            "Epoch 29 / 100. Validation loss = 0.14612. Validation accuracy = 0.95467\n",
            "Epoch 30 / 100...training finished. Training loss = 0.27824\n",
            "Epoch 30 / 100. Validation loss = 0.14589. Validation accuracy = 0.95478\n",
            "Epoch 31 / 100...training finished. Training loss = 0.27504\n",
            "Epoch 31 / 100. Validation loss = 0.14263. Validation accuracy = 0.95600\n",
            "Epoch 32 / 100...training finished. Training loss = 0.28054\n",
            "Epoch 32 / 100. Validation loss = 0.14323. Validation accuracy = 0.95434\n",
            "Epoch 33 / 100...training finished. Training loss = 0.27780\n",
            "Epoch 33 / 100. Validation loss = 0.14125. Validation accuracy = 0.95645\n",
            "Epoch 34 / 100...training finished. Training loss = 0.28112\n",
            "Epoch 34 / 100. Validation loss = 0.14697. Validation accuracy = 0.95450\n",
            "Epoch 35 / 100...training finished. Training loss = 0.27353\n",
            "Epoch 35 / 100. Validation loss = 0.14652. Validation accuracy = 0.95406\n",
            "Epoch 36 / 100...training finished. Training loss = 0.28148\n",
            "Epoch 36 / 100. Validation loss = 0.14206. Validation accuracy = 0.95745\n",
            "Epoch 37 / 100...training finished. Training loss = 0.27470\n",
            "Epoch 37 / 100. Validation loss = 0.14239. Validation accuracy = 0.95467\n",
            "Epoch 38 / 100...training finished. Training loss = 0.27410\n",
            "Epoch 38 / 100. Validation loss = 0.14257. Validation accuracy = 0.95523\n",
            "Epoch 39 / 100...training finished. Training loss = 0.27457\n",
            "Epoch 39 / 100. Validation loss = 0.14326. Validation accuracy = 0.95634\n",
            "Epoch 40 / 100...training finished. Training loss = 0.27983\n",
            "Epoch 40 / 100. Validation loss = 0.14424. Validation accuracy = 0.95561\n",
            "Epoch 41 / 100...training finished. Training loss = 0.28014\n",
            "Epoch 41 / 100. Validation loss = 0.14311. Validation accuracy = 0.95528\n",
            "Epoch 42 / 100...training finished. Training loss = 0.27352\n",
            "Epoch 42 / 100. Validation loss = 0.14379. Validation accuracy = 0.95611\n",
            "Epoch 43 / 100...training finished. Training loss = 0.26592\n",
            "Epoch 43 / 100. Validation loss = 0.14047. Validation accuracy = 0.95628\n",
            "Epoch 44 / 100...training finished. Training loss = 0.27787\n",
            "Epoch 44 / 100. Validation loss = 0.13962. Validation accuracy = 0.95878\n",
            "Epoch 45 / 100...training finished. Training loss = 0.27331\n",
            "Epoch 45 / 100. Validation loss = 0.13637. Validation accuracy = 0.95750\n",
            "Epoch 46 / 100...training finished. Training loss = 0.27553\n",
            "Epoch 46 / 100. Validation loss = 0.14414. Validation accuracy = 0.95589\n",
            "Epoch 47 / 100...training finished. Training loss = 0.27400\n",
            "Epoch 47 / 100. Validation loss = 0.13744. Validation accuracy = 0.95817\n",
            "Epoch 48 / 100...training finished. Training loss = 0.27725\n",
            "Epoch 48 / 100. Validation loss = 0.14844. Validation accuracy = 0.95456\n",
            "Epoch 49 / 100...training finished. Training loss = 0.27918\n",
            "Epoch 49 / 100. Validation loss = 0.14330. Validation accuracy = 0.95456\n",
            "Epoch 50 / 100...training finished. Training loss = 0.27299\n",
            "Epoch 50 / 100. Validation loss = 0.13716. Validation accuracy = 0.95728\n",
            "Epoch 51 / 100...training finished. Training loss = 0.28103\n",
            "Epoch 51 / 100. Validation loss = 0.14166. Validation accuracy = 0.95745\n",
            "Epoch 52 / 100...training finished. Training loss = 0.27722\n",
            "Epoch 52 / 100. Validation loss = 0.14163. Validation accuracy = 0.95578\n",
            "Epoch 53 / 100...training finished. Training loss = 0.27746\n",
            "Epoch 53 / 100. Validation loss = 0.14599. Validation accuracy = 0.95550\n",
            "Epoch 54 / 100...training finished. Training loss = 0.27630\n",
            "Epoch 54 / 100. Validation loss = 0.14185. Validation accuracy = 0.95606\n",
            "Epoch 55 / 100...training finished. Training loss = 0.27131\n",
            "Epoch 55 / 100. Validation loss = 0.14905. Validation accuracy = 0.95412\n",
            "Epoch 56 / 100...training finished. Training loss = 0.27140\n",
            "Epoch 56 / 100. Validation loss = 0.14602. Validation accuracy = 0.95423\n",
            "Epoch 57 / 100...training finished. Training loss = 0.27283\n",
            "Epoch 57 / 100. Validation loss = 0.13866. Validation accuracy = 0.95884\n",
            "Epoch 58 / 100...training finished. Training loss = 0.27000\n",
            "Epoch 58 / 100. Validation loss = 0.14027. Validation accuracy = 0.95661\n",
            "Epoch 59 / 100...training finished. Training loss = 0.27580\n",
            "Epoch 59 / 100. Validation loss = 0.14499. Validation accuracy = 0.95506\n",
            "Epoch 60 / 100...training finished. Training loss = 0.27149\n",
            "Epoch 60 / 100. Validation loss = 0.14250. Validation accuracy = 0.95612\n",
            "Epoch 61 / 100...training finished. Training loss = 0.27598\n",
            "Epoch 61 / 100. Validation loss = 0.14596. Validation accuracy = 0.95478\n",
            "Epoch 62 / 100...training finished. Training loss = 0.27391\n",
            "Epoch 62 / 100. Validation loss = 0.13872. Validation accuracy = 0.95667\n",
            "Epoch 63 / 100...training finished. Training loss = 0.26471\n",
            "Epoch 63 / 100. Validation loss = 0.14482. Validation accuracy = 0.95584\n",
            "Epoch 64 / 100...training finished. Training loss = 0.27130\n",
            "Epoch 64 / 100. Validation loss = 0.13981. Validation accuracy = 0.95695\n",
            "Epoch 65 / 100...training finished. Training loss = 0.27712\n",
            "Epoch 65 / 100. Validation loss = 0.14478. Validation accuracy = 0.95756\n",
            "Epoch 66 / 100...training finished. Training loss = 0.27193\n",
            "Epoch 66 / 100. Validation loss = 0.13732. Validation accuracy = 0.95689\n",
            "Epoch 67 / 100...training finished. Training loss = 0.27475\n",
            "Epoch 67 / 100. Validation loss = 0.13758. Validation accuracy = 0.95711\n",
            "Epoch 68 / 100...training finished. Training loss = 0.27245\n",
            "Epoch 68 / 100. Validation loss = 0.13813. Validation accuracy = 0.95778\n",
            "Epoch 69 / 100...training finished. Training loss = 0.27155\n",
            "Epoch 69 / 100. Validation loss = 0.14039. Validation accuracy = 0.95667\n",
            "Epoch 70 / 100...training finished. Training loss = 0.27160\n",
            "Epoch 70 / 100. Validation loss = 0.14202. Validation accuracy = 0.95661\n",
            "Epoch 71 / 100...training finished. Training loss = 0.27133\n",
            "Epoch 71 / 100. Validation loss = 0.14102. Validation accuracy = 0.95589\n",
            "Epoch 72 / 100...training finished. Training loss = 0.27323\n",
            "Epoch 72 / 100. Validation loss = 0.14407. Validation accuracy = 0.95467\n",
            "Epoch 73 / 100...training finished. Training loss = 0.26564\n",
            "Epoch 73 / 100. Validation loss = 0.14251. Validation accuracy = 0.95656\n",
            "Epoch 74 / 100...training finished. Training loss = 0.27012\n",
            "Epoch 74 / 100. Validation loss = 0.13918. Validation accuracy = 0.95711\n",
            "Epoch 75 / 100...training finished. Training loss = 0.26921\n",
            "Epoch 75 / 100. Validation loss = 0.13642. Validation accuracy = 0.95845\n",
            "Epoch 76 / 100...training finished. Training loss = 0.26675\n",
            "Epoch 76 / 100. Validation loss = 0.13490. Validation accuracy = 0.95734\n",
            "Epoch 77 / 100...training finished. Training loss = 0.26449\n",
            "Epoch 77 / 100. Validation loss = 0.13963. Validation accuracy = 0.95600\n",
            "Epoch 78 / 100...training finished. Training loss = 0.27587\n",
            "Epoch 78 / 100. Validation loss = 0.13656. Validation accuracy = 0.95706\n",
            "Epoch 79 / 100...training finished. Training loss = 0.26546\n",
            "Epoch 79 / 100. Validation loss = 0.14687. Validation accuracy = 0.95517\n",
            "Epoch 80 / 100...training finished. Training loss = 0.27500\n",
            "Epoch 80 / 100. Validation loss = 0.14384. Validation accuracy = 0.95661\n",
            "Epoch 81 / 100...training finished. Training loss = 0.26067\n",
            "Epoch 81 / 100. Validation loss = 0.14244. Validation accuracy = 0.95673\n",
            "Epoch 82 / 100...training finished. Training loss = 0.27132\n",
            "Epoch 82 / 100. Validation loss = 0.13955. Validation accuracy = 0.95784\n",
            "Epoch 83 / 100...training finished. Training loss = 0.27320\n",
            "Epoch 83 / 100. Validation loss = 0.13639. Validation accuracy = 0.95756\n",
            "Epoch 84 / 100...training finished. Training loss = 0.27259\n",
            "Epoch 84 / 100. Validation loss = 0.14114. Validation accuracy = 0.95550\n",
            "Epoch 85 / 100...training finished. Training loss = 0.27325\n",
            "Epoch 85 / 100. Validation loss = 0.13889. Validation accuracy = 0.95761\n",
            "Epoch 86 / 100...training finished. Training loss = 0.27047\n",
            "Epoch 86 / 100. Validation loss = 0.14111. Validation accuracy = 0.95528\n",
            "Epoch 87 / 100...training finished. Training loss = 0.25962\n",
            "Epoch 87 / 100. Validation loss = 0.13692. Validation accuracy = 0.95728\n",
            "Epoch 88 / 100...training finished. Training loss = 0.26721\n",
            "Epoch 88 / 100. Validation loss = 0.13326. Validation accuracy = 0.95873\n",
            "Epoch 89 / 100...training finished. Training loss = 0.26854\n",
            "Epoch 89 / 100. Validation loss = 0.13662. Validation accuracy = 0.95867\n",
            "Epoch 90 / 100...training finished. Training loss = 0.26653\n",
            "Epoch 90 / 100. Validation loss = 0.13399. Validation accuracy = 0.95978\n",
            "Epoch 91 / 100...training finished. Training loss = 0.26971\n",
            "Epoch 91 / 100. Validation loss = 0.14279. Validation accuracy = 0.95506\n",
            "Epoch 92 / 100...training finished. Training loss = 0.26514\n",
            "Epoch 92 / 100. Validation loss = 0.13603. Validation accuracy = 0.95750\n",
            "Epoch 93 / 100...training finished. Training loss = 0.27016\n",
            "Epoch 93 / 100. Validation loss = 0.13896. Validation accuracy = 0.95856\n",
            "Epoch 94 / 100...training finished. Training loss = 0.26899\n",
            "Epoch 94 / 100. Validation loss = 0.14261. Validation accuracy = 0.95539\n",
            "Epoch 95 / 100...training finished. Training loss = 0.26773\n",
            "Epoch 95 / 100. Validation loss = 0.13995. Validation accuracy = 0.95728\n",
            "Epoch 96 / 100...training finished. Training loss = 0.26695\n",
            "Epoch 96 / 100. Validation loss = 0.14371. Validation accuracy = 0.95812\n",
            "Epoch 97 / 100...training finished. Training loss = 0.27363\n",
            "Epoch 97 / 100. Validation loss = 0.14150. Validation accuracy = 0.95489\n",
            "Epoch 98 / 100...training finished. Training loss = 0.26240\n",
            "Epoch 98 / 100. Validation loss = 0.13776. Validation accuracy = 0.95823\n",
            "Epoch 99 / 100...training finished. Training loss = 0.27186\n",
            "Epoch 99 / 100. Validation loss = 0.13800. Validation accuracy = 0.95639\n",
            "Epoch 100 / 100...training finished. Training loss = 0.27104\n",
            "Epoch 100 / 100. Validation loss = 0.14707. Validation accuracy = 0.95384\n",
            "Test accuracy: 0.97180\n",
            "Epoch 1 / 50...training finished. Training loss = 0.47558\n",
            "Epoch 1 / 50. Validation loss = 0.25603. Validation accuracy = 0.92156\n",
            "Epoch 2 / 50...training finished. Training loss = 0.50337\n",
            "Epoch 2 / 50. Validation loss = 0.27837. Validation accuracy = 0.91550\n",
            "Epoch 3 / 50...training finished. Training loss = 0.51762\n",
            "Epoch 3 / 50. Validation loss = 0.26390. Validation accuracy = 0.92050\n",
            "Epoch 4 / 50...training finished. Training loss = 0.53032\n",
            "Epoch 4 / 50. Validation loss = 0.29590. Validation accuracy = 0.91506\n",
            "Epoch 5 / 50...training finished. Training loss = 0.52760\n",
            "Epoch 5 / 50. Validation loss = 0.29371. Validation accuracy = 0.91750\n",
            "Epoch 6 / 50...training finished. Training loss = 0.55387\n",
            "Epoch 6 / 50. Validation loss = 0.31272. Validation accuracy = 0.91178\n",
            "Epoch 7 / 50...training finished. Training loss = 0.54039\n",
            "Epoch 7 / 50. Validation loss = 0.31525. Validation accuracy = 0.91045\n",
            "Epoch 8 / 50...training finished. Training loss = 0.56970\n",
            "Epoch 8 / 50. Validation loss = 0.33016. Validation accuracy = 0.89889\n",
            "Epoch 9 / 50...training finished. Training loss = 0.55381\n",
            "Epoch 9 / 50. Validation loss = 0.29055. Validation accuracy = 0.91156\n",
            "Epoch 10 / 50...training finished. Training loss = 0.56659\n",
            "Epoch 10 / 50. Validation loss = 0.33275. Validation accuracy = 0.90550\n",
            "Epoch 11 / 50...training finished. Training loss = 0.56628\n",
            "Epoch 11 / 50. Validation loss = 0.31807. Validation accuracy = 0.91250\n",
            "Epoch 12 / 50...training finished. Training loss = 0.57032\n",
            "Epoch 12 / 50. Validation loss = 0.30451. Validation accuracy = 0.91272\n",
            "Epoch 13 / 50...training finished. Training loss = 0.57503\n",
            "Epoch 13 / 50. Validation loss = 0.30118. Validation accuracy = 0.91295\n",
            "Epoch 14 / 50...training finished. Training loss = 0.58116\n",
            "Epoch 14 / 50. Validation loss = 0.33577. Validation accuracy = 0.91078\n",
            "Epoch 15 / 50...training finished. Training loss = 0.57836\n",
            "Epoch 15 / 50. Validation loss = 0.35559. Validation accuracy = 0.89667\n",
            "Epoch 16 / 50...training finished. Training loss = 0.56469\n",
            "Epoch 16 / 50. Validation loss = 0.34867. Validation accuracy = 0.90445\n",
            "Epoch 17 / 50...training finished. Training loss = 0.60250\n",
            "Epoch 17 / 50. Validation loss = 0.45189. Validation accuracy = 0.90156\n",
            "Epoch 18 / 50...training finished. Training loss = 0.57997\n",
            "Epoch 18 / 50. Validation loss = 0.33244. Validation accuracy = 0.90611\n",
            "Epoch 19 / 50...training finished. Training loss = 0.60246\n",
            "Epoch 19 / 50. Validation loss = 0.34383. Validation accuracy = 0.90278\n",
            "Epoch 20 / 50...training finished. Training loss = 0.59899\n",
            "Epoch 20 / 50. Validation loss = 0.32692. Validation accuracy = 0.91084\n",
            "Epoch 21 / 50...training finished. Training loss = 0.58844\n",
            "Epoch 21 / 50. Validation loss = 0.32408. Validation accuracy = 0.90167\n",
            "Epoch 22 / 50...training finished. Training loss = 0.59665\n",
            "Epoch 22 / 50. Validation loss = 0.32155. Validation accuracy = 0.90856\n",
            "Epoch 23 / 50...training finished. Training loss = 0.60778\n",
            "Epoch 23 / 50. Validation loss = 0.43141. Validation accuracy = 0.87539\n",
            "Epoch 24 / 50...training finished. Training loss = 0.62393\n",
            "Epoch 24 / 50. Validation loss = 0.34925. Validation accuracy = 0.90311\n",
            "Epoch 25 / 50...training finished. Training loss = 0.62190\n",
            "Epoch 25 / 50. Validation loss = 0.34383. Validation accuracy = 0.90806\n",
            "Epoch 26 / 50...training finished. Training loss = 0.62182\n",
            "Epoch 26 / 50. Validation loss = 0.33321. Validation accuracy = 0.91211\n",
            "Epoch 27 / 50...training finished. Training loss = 0.61123\n",
            "Epoch 27 / 50. Validation loss = 0.36683. Validation accuracy = 0.89839\n",
            "Epoch 28 / 50...training finished. Training loss = 0.62315\n",
            "Epoch 28 / 50. Validation loss = 0.37629. Validation accuracy = 0.90572\n",
            "Epoch 29 / 50...training finished. Training loss = 0.63895\n",
            "Epoch 29 / 50. Validation loss = 0.35531. Validation accuracy = 0.90445\n",
            "Epoch 30 / 50...training finished. Training loss = 0.62697\n",
            "Epoch 30 / 50. Validation loss = 0.44944. Validation accuracy = 0.89156\n",
            "Epoch 31 / 50...training finished. Training loss = 0.61750\n",
            "Epoch 31 / 50. Validation loss = 0.35133. Validation accuracy = 0.90145\n",
            "Epoch 32 / 50...training finished. Training loss = 0.64997\n",
            "Epoch 32 / 50. Validation loss = 0.34856. Validation accuracy = 0.90567\n",
            "Epoch 33 / 50...training finished. Training loss = 0.63097\n",
            "Epoch 33 / 50. Validation loss = 0.36781. Validation accuracy = 0.89767\n",
            "Epoch 34 / 50...training finished. Training loss = 0.65922\n",
            "Epoch 34 / 50. Validation loss = 0.37039. Validation accuracy = 0.89583\n",
            "Epoch 35 / 50...training finished. Training loss = 0.61675\n",
            "Epoch 35 / 50. Validation loss = 0.35821. Validation accuracy = 0.89772\n",
            "Epoch 36 / 50...training finished. Training loss = 0.64732\n",
            "Epoch 36 / 50. Validation loss = 0.35372. Validation accuracy = 0.89934\n",
            "Epoch 37 / 50...training finished. Training loss = 0.66812\n",
            "Epoch 37 / 50. Validation loss = 0.35893. Validation accuracy = 0.90178\n",
            "Epoch 38 / 50...training finished. Training loss = 0.64483\n",
            "Epoch 38 / 50. Validation loss = 0.39033. Validation accuracy = 0.89117\n",
            "Epoch 39 / 50...training finished. Training loss = 0.64466\n",
            "Epoch 39 / 50. Validation loss = 0.40149. Validation accuracy = 0.88561\n",
            "Epoch 40 / 50...training finished. Training loss = 0.68640\n",
            "Epoch 40 / 50. Validation loss = 0.33993. Validation accuracy = 0.90956\n",
            "Epoch 41 / 50...training finished. Training loss = 0.68444\n",
            "Epoch 41 / 50. Validation loss = 0.38645. Validation accuracy = 0.89417\n",
            "Epoch 42 / 50...training finished. Training loss = 0.75720\n",
            "Epoch 42 / 50. Validation loss = 0.37207. Validation accuracy = 0.90006\n",
            "Epoch 43 / 50...training finished. Training loss = 0.67167\n",
            "Epoch 43 / 50. Validation loss = 0.37948. Validation accuracy = 0.89811\n",
            "Epoch 44 / 50...training finished. Training loss = 0.71114\n",
            "Epoch 44 / 50. Validation loss = 0.38244. Validation accuracy = 0.89428\n",
            "Epoch 45 / 50...training finished. Training loss = 0.67157\n",
            "Epoch 45 / 50. Validation loss = 0.38301. Validation accuracy = 0.89556\n",
            "Epoch 46 / 50...training finished. Training loss = 0.71797\n",
            "Epoch 46 / 50. Validation loss = 0.43637. Validation accuracy = 0.87383\n",
            "Epoch 47 / 50...training finished. Training loss = 0.73588\n",
            "Epoch 47 / 50. Validation loss = 0.42141. Validation accuracy = 0.87472\n",
            "Epoch 48 / 50...training finished. Training loss = 0.74422\n",
            "Epoch 48 / 50. Validation loss = 0.42139. Validation accuracy = 0.89267\n",
            "Epoch 49 / 50...training finished. Training loss = 0.75200\n",
            "Epoch 49 / 50. Validation loss = 0.41639. Validation accuracy = 0.88111\n",
            "Epoch 50 / 50...training finished. Training loss = 0.73510\n",
            "Epoch 50 / 50. Validation loss = 0.41425. Validation accuracy = 0.89078\n",
            "Test accuracy: 0.92470\n"
          ]
        }
      ],
      "source": [
        "## YOUR CODE HERE ##\n",
        "learn_rate_list = [0.0001, 0.0005, 0.001, 0.005]\n",
        "epoch_list = [100, 100, 50, 50]\n",
        "test_accuracy_list = []\n",
        "test_accuracy_prev = test_accuracy # save the value of test accuracy for lr = 0.001\n",
        "\n",
        "for lr,epochs in zip(learn_rate_list, epoch_list):\n",
        "  if(lr == 0.001):\n",
        "    test_accuracy_list.append(test_accuracy_prev)\n",
        "  else:\n",
        "    optimizer = optim.Adam(model.parameters(), lr=lr)\n",
        "    train_loss_epoch, val_loss_epoch, val_accuracy_epoch = train_model(optimizer,epochs)\n",
        "    test_accuracy = test_model()\n",
        "    test_accuracy_list.append(test_accuracy)"
      ]
    },
    {
      "cell_type": "code",
      "execution_count": 30,
      "metadata": {
        "id": "o9qkmfgjfrpr"
      },
      "outputs": [
        {
          "data": {
            "image/png": "[encoded data removed]",
            "text/plain": [
              "<Figure size 640x480 with 1 Axes>"
            ]
          },
          "metadata": {},
          "output_type": "display_data"
        }
      ],
      "source": [
        "test_accuracy_list = np.array([x.item() for x in test_accuracy_list])\n",
        "plt.scatter(learn_rate_list, test_accuracy_list)\n",
        "plt.show()"
      ]
    },
    {
      "cell_type": "markdown",
      "metadata": {},
      "source": [
        "Learning rate = 0.0005 achieves the highest test accuracy."
      ]
    },
    {
      "cell_type": "markdown",
      "metadata": {
        "id": "sn7UsZ5RQ6XG"
      },
      "source": [
        "## Saving your model\n",
        "Using `torch.save`, save your model for future loading."
      ]
    },
    {
      "cell_type": "code",
      "execution_count": 32,
      "metadata": {
        "id": "31Xxt8QPQ6XG"
      },
      "outputs": [],
      "source": [
        "## YOUR CODE HERE ##\n",
        "best_model = {'input_size': 784, 'output_size': 10, 'state_dict': model.state_dict()}\n",
        "torch.save(best_model, 'best_model_CNN.pth')"
      ]
    }
  ],
  "metadata": {
    "accelerator": "GPU",
    "colab": {
      "gpuType": "T4",
      "provenance": []
    },
    "kernelspec": {
      "display_name": "Python 3",
      "name": "python3"
    },
    "language_info": {
      "codemirror_mode": {
        "name": "ipython",
        "version": 3
      },
      "file_extension": ".py",
      "mimetype": "text/x-python",
      "name": "python",
      "nbconvert_exporter": "python",
      "pygments_lexer": "ipython3",
      "version": "3.10.11"
    }
  },
  "nbformat": 4,
  "nbformat_minor": 0
}
